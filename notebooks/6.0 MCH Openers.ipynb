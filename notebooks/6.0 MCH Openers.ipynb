{
 "cells": [
  {
   "cell_type": "markdown",
   "source": [
    "# Action Data\n",
    "### Ignore this unless you want to edit Action information."
   ],
   "metadata": {}
  },
  {
   "cell_type": "code",
   "execution_count": 66,
   "source": [
    "from dataclasses import dataclass \n",
    "\n",
    "# Define the shape of an Action\n",
    "@dataclass\n",
    "class Action:\n",
    "    potency: int = 0\n",
    "    heat: int = 0\n",
    "    battery: int = 0\n",
    "    onGCD: bool = False\n",
    "    recast: int = 2500\n",
    "    lock: int = 750\n",
    "    cooldown: int = 0"
   ],
   "outputs": [],
   "metadata": {}
  },
  {
   "cell_type": "code",
   "execution_count": 67,
   "source": [
    "# Data entry\n",
    "DRILL = Action(potency = 700, onGCD = True, cooldown = 20000)\n",
    "AA = Action(potency = 700, battery = 20, onGCD = True, cooldown = 40000)\n",
    "CS = Action(potency = 1000, battery = 20, onGCD = True, cooldown = 60000)\n",
    "SPLIT = Action(potency = 220, heat = 5, onGCD = True)\n",
    "SLUG = Action(potency = 330, heat = 5, onGCD = True)\n",
    "CLEAN = Action(potency = 440, heat = 5, battery = 10, onGCD = True)\n",
    "HB = Action(potency = 220, onGCD = True, recast = 1500)\n",
    "GR = Action(potency = 150, cooldown = 15000)\n",
    "RICO = Action(potency = 150, cooldown = 15000)\n",
    "WF = Action(potency = 1200, cooldown = 120000)\n",
    "BS = Action(heat = 50, cooldown = 120000)\n",
    "REA = Action(cooldown = 55000)\n",
    "HC = Action()"
   ],
   "outputs": [],
   "metadata": {}
  },
  {
   "cell_type": "markdown",
   "source": [
    "# Buff Data\n",
    "### Ignore this unless you want to edit buff timings or multipliers/crit/DH rates."
   ],
   "metadata": {}
  },
  {
   "cell_type": "code",
   "execution_count": 50,
   "source": [
    "# Define the shape of a Buff\n",
    "@dataclass\n",
    "class Buff:\n",
    "    start: int\n",
    "    duration: int\n",
    "    multiplier: float = 1\n",
    "    critRate: float = 0\n",
    "    dhRate: float = 0"
   ],
   "outputs": [],
   "metadata": {}
  },
  {
   "cell_type": "code",
   "execution_count": 51,
   "source": [
    "# Raid buff data entry\n",
    "TA = Buff(start = 8600, duration = 15000, multiplier = 1.05)\n",
    "DIV = Buff(start = 10700, duration = 15000, multiplier = 1.06)\n",
    "EMBOLDEN = Buff(start = 8300, duration = 20000, multiplier = 1.2)  # Decays\n",
    "RF_1 = Buff(start = 8000, duration = 15000, multiplier = 1.02)\n",
    "RF_3 = Buff(start = 8000, duration = 15000, multiplier = 1.05)\n",
    "BH = Buff(start = 9100, duration = 15000, multiplier = 1.05)\n",
    "DS = Buff(start = 3600, duration = 20000, multiplier = 1.05)\n",
    "TF = Buff(start = 7500, duration = 20000, multiplier = 1.05)\n",
    "BL = Buff(start = 2400, duration = 20000, critRate = 0.1)\n",
    "CHAIN = Buff(start = 8200, duration = 15000, critRate = 0.1)\n",
    "BV = Buff(start = 3900, duration = 20000, dhRate = 0.2)\n",
    "DM = Buff(start = 10000, duration = 20000, critRate = 0.2, dhRate = 0.2)\n",
    "\n",
    "RAID_BUFFS = {\n",
    "    'Trick Attack': TA,\n",
    "    'Divination': DIV,\n",
    "    'Embolden': EMBOLDEN,\n",
    "    'Radiant Finale (1 Coda)': RF_1,\n",
    "    'Radiant Finale (3 Codas)': RF_3,\n",
    "    'Brotherhood': BH,\n",
    "    'Dragon Sight': DS,\n",
    "    'Technical Finish': TF,\n",
    "    'Battle Litany': BL,\n",
    "    'Chain Stratagem': CHAIN,\n",
    "    'Battle Voice': BV,\n",
    "    'Devilment': DM,\n",
    "}"
   ],
   "outputs": [],
   "metadata": {}
  },
  {
   "cell_type": "markdown",
   "source": [
    "# Opener Data\n",
    "### Ignore this unless you want to create a new opener for comparison."
   ],
   "metadata": {}
  },
  {
   "cell_type": "code",
   "execution_count": 52,
   "source": [
    "# Data entry\n",
    "FOURTH_GCD = [REA, DRILL, GR, RICO, SPLIT, BS, SLUG, GR, RICO, AA, WF, HC, HB, GR, HB, RICO, HB, GR, HB, RICO, CLEAN, GR, RICO, DRILL, RICO, SPLIT, SLUG, CLEAN]\n",
    "\n",
    "# Add rotations here\n",
    "OPENERS_TO_COMPARE = [\n",
    "    FOURTH_GCD,\n",
    "]"
   ],
   "outputs": [],
   "metadata": {}
  },
  {
   "cell_type": "markdown",
   "source": [
    "# Logic\n",
    "### Ignore this unless you want to change how the rotations are evaluated."
   ],
   "metadata": {}
  },
  {
   "cell_type": "code",
   "execution_count": 61,
   "source": [
    "from dataclasses import replace\n",
    "from typing import List\n",
    "\n",
    "DH_MULTIPLIER = 1.25\n",
    "\n",
    "@dataclass\n",
    "class Stats:\n",
    "    critMod: float\n",
    "    critRate: float\n",
    "    dhRate: float\n",
    "    multiplier: float = 1\n",
    "\n",
    "    def __iadd__(self, buff: Buff):\n",
    "        \"\"\"Overloads += to combine base stats + buffs easily\"\"\"\n",
    "        self.critRate += buff.critRate\n",
    "        self.dhRate += buff.dhRate\n",
    "        self.multiplier *= buff.multiplier\n",
    "        return self\n",
    "\n",
    "class Simulate:\n",
    "    rotation: List[Action]\n",
    "    buffs: List[Buff]\n",
    "    stats: Stats\n",
    "\n",
    "    # State\n",
    "    hypercharges: int = 0\n",
    "    reassembled: bool = False\n",
    "    time: int = 0\n",
    "    nextGCD: int = 0\n",
    "    nextAction: int = 0\n",
    "    totalEffectivePotency: int = 0\n",
    "    heat: int = 0\n",
    "    battery: int = 0\n",
    "\n",
    "    def __init__(self, rotation: List[Action], buffs: List[Buff], stats: Stats):\n",
    "        self.rotation = rotation\n",
    "        self.buffs = buffs\n",
    "        self.stats = stats\n",
    "        self.simulate()\n",
    "\n",
    "    def onReassemble(self):\n",
    "        self.reassembled = True\n",
    "\n",
    "    def onHypercharge(self):\n",
    "        self.hypercharges = 5\n",
    "\n",
    "    def collectBuffs(self) -> Stats:\n",
    "        currentStats = replace(self.stats)\n",
    "\n",
    "        for buff in self.buffs:\n",
    "            if self.time >= buff.start and self.time < buff.start + buff.duration:\n",
    "                currentStats += buff\n",
    "\n",
    "        return currentStats\n",
    "\n",
    "    def onDamage(self, action: Action):\n",
    "        potency = action.potency\n",
    "        stats = self.collectBuffs()\n",
    "        critMod = stats.critMod\n",
    "        critRate = stats.critRate\n",
    "        dhRate = stats.dhRate\n",
    "\n",
    "        if action.onGCD:\n",
    "            if self.reassembled:\n",
    "                critRate = 1\n",
    "                dhRate = 1\n",
    "                self.reassembled = False\n",
    "            \n",
    "            if self.hypercharges:\n",
    "                potency += 20\n",
    "                self.hypercharges -= 1\n",
    "\n",
    "            self.nextGCD = self.time + action.recast\n",
    "\n",
    "        elif action == WF:\n",
    "            critRate = 0\n",
    "            dhRate = 0\n",
    "\n",
    "        # Make sure these cap at 100%\n",
    "        critRate = min(critRate, 1)\n",
    "        dhRate = min(dhRate, 1)\n",
    "\n",
    "        effectiveMultiplier = (1 + ((critMod - 1) * critRate)) * (1 + ((DH_MULTIPLIER - 1) * dhRate)) * stats.multiplier\n",
    "        self.totalEffectivePotency += effectiveMultiplier * potency\n",
    "\n",
    "    def simulate(self):\n",
    "        for position, action in enumerate(self.rotation):\n",
    "            if action.potency:\n",
    "                self.onDamage(action)\n",
    "            \n",
    "            elif action == REA:\n",
    "                self.onReassemble()\n",
    "\n",
    "            elif action == HC:\n",
    "                self.onHypercharge()\n",
    "\n",
    "            self.heat += action.heat\n",
    "            self.battery += action.battery\n",
    "\n",
    "            if action.onGCD:\n",
    "                self.time = max(self.time + action.lock, self.nextGCD)\n",
    "\n",
    "            # ALlow for prepull reassemble\n",
    "            elif not (action == REA and position == 0):\n",
    "                self.time += action.lock\n",
    "\n",
    "    def getEffectivePotency(self) -> int:\n",
    "        return self.totalEffectivePotency\n",
    "\n",
    "    def getEffectivePPS(self) -> float:\n",
    "        return (self.totalEffectivePotency / self.time) * 1000"
   ],
   "outputs": [],
   "metadata": {}
  },
  {
   "cell_type": "markdown",
   "source": [
    "# Analysis\n",
    "### Choose which buffs to compare and see the results."
   ],
   "metadata": {}
  },
  {
   "cell_type": "code",
   "execution_count": 54,
   "source": [
    "import ipywidgets as widgets\n",
    "from IPython.display import display\n",
    "\n",
    "buffs = RAID_BUFFS.keys()\n",
    "checkboxes = [ widgets.Checkbox(value=False, description=buff) for buff in buffs ]\n",
    "checkboxObject = widgets.VBox(children=checkboxes)\n",
    "\n",
    "print(\"Raid Buffs\")\n",
    "display(checkboxObject)"
   ],
   "outputs": [
    {
     "output_type": "stream",
     "name": "stdout",
     "text": [
      "Raid Buffs\n"
     ]
    },
    {
     "output_type": "display_data",
     "data": {
      "application/vnd.jupyter.widget-view+json": {
       "version_major": 2,
       "version_minor": 0,
       "model_id": "8f6eb88f3d844e51b08f326ac2106f56"
      },
      "text/plain": [
       "VBox(children=(Checkbox(value=False, description='Trick Attack'), Checkbox(value=False, description='Divinatio…"
      ]
     },
     "metadata": {}
    }
   ],
   "metadata": {}
  },
  {
   "cell_type": "code",
   "execution_count": 64,
   "source": [
    "selectedBuffs = []\n",
    "\n",
    "# Collect the buffs toggled above\n",
    "for c in checkboxes:\n",
    "    if c.value:\n",
    "        selectedBuffs.append(RAID_BUFFS[c.description])\n",
    "\n",
    "for opener in OPENERS_TO_COMPARE:\n",
    "    data = Simulate(opener, selectedBuffs, Stats(1.6, 0.25, 0.33, 1))\n",
    "    print(data.getEffectivePPS())"
   ],
   "outputs": [
    {
     "output_type": "stream",
     "name": "stdout",
     "text": [
      "306.7472019551283\n"
     ]
    }
   ],
   "metadata": {}
  }
 ],
 "metadata": {
  "orig_nbformat": 4,
  "language_info": {
   "name": "python",
   "version": "3.10.0",
   "mimetype": "text/x-python",
   "codemirror_mode": {
    "name": "ipython",
    "version": 3
   },
   "pygments_lexer": "ipython3",
   "nbconvert_exporter": "python",
   "file_extension": ".py"
  },
  "kernelspec": {
   "name": "python3",
   "display_name": "Python 3.10.0 64-bit ('scripts-iq_HAvRz': pipenv)"
  },
  "interpreter": {
   "hash": "bc9adc465601ad7e76b79274fe1589521e8b9e7fde1770ddc66289d8fbe3db88"
  }
 },
 "nbformat": 4,
 "nbformat_minor": 2
}